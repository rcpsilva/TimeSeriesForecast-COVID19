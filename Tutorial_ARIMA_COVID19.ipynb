{
  "nbformat": 4,
  "nbformat_minor": 0,
  "metadata": {
    "colab": {
      "name": "Tutorial_ARIMA_COVID19.ipynb",
      "provenance": [],
      "collapsed_sections": []
    },
    "kernelspec": {
      "name": "python3",
      "display_name": "Python 3"
    }
  },
  "cells": [
    {
      "cell_type": "markdown",
      "metadata": {
        "id": "o3y0qY3D4JhX",
        "colab_type": "text"
      },
      "source": [
        "# Using ARIMA to predict COVID19 cases"
      ]
    },
    {
      "cell_type": "markdown",
      "metadata": {
        "id": "Nz8ds2qh4Wdu",
        "colab_type": "text"
      },
      "source": [
        "## Getting data "
      ]
    },
    {
      "cell_type": "code",
      "metadata": {
        "id": "rODXb_0rJXLX",
        "colab_type": "code",
        "outputId": "eafe86e3-2ad2-49d1-805d-f4d2797a5bb1",
        "colab": {
          "base_uri": "https://localhost:8080/",
          "height": 126
        }
      },
      "source": [
        "!git clone https://github.com/lrssv/TimeSeriesForecastingCOVID19\n",
        "\n",
        "# Useful turorials\n",
        "# https://www.digitalocean.com/community/tutorials/a-guide-to-time-series-forecasting-with-arima-in-python-3\n",
        "# https://www.statsmodels.org/dev/examples/notebooks/generated/statespace_sarimax_stata.html"
      ],
      "execution_count": 0,
      "outputs": [
        {
          "output_type": "stream",
          "text": [
            "Cloning into 'TimeSeriesForecastingCOVID19'...\n",
            "remote: Enumerating objects: 31, done.\u001b[K\n",
            "remote: Counting objects: 100% (31/31), done.\u001b[K\n",
            "remote: Compressing objects: 100% (30/30), done.\u001b[K\n",
            "remote: Total 31 (delta 9), reused 0 (delta 0), pack-reused 0\u001b[K\n",
            "Unpacking objects: 100% (31/31), done.\n"
          ],
          "name": "stdout"
        }
      ]
    },
    {
      "cell_type": "code",
      "metadata": {
        "id": "9Hp9MHOOJYNk",
        "colab_type": "code",
        "outputId": "ac11f9ab-152e-4f8a-d2ee-f4db6691f255",
        "colab": {
          "base_uri": "https://localhost:8080/",
          "height": 54
        }
      },
      "source": [
        "import warnings\n",
        "import itertools\n",
        "import pandas as pd\n",
        "import numpy as np\n",
        "import statsmodels.api as sm\n",
        "import matplotlib.pyplot as plt\n",
        "from datetime import timedelta"
      ],
      "execution_count": 0,
      "outputs": [
        {
          "output_type": "stream",
          "text": [
            "/usr/local/lib/python3.6/dist-packages/statsmodels/tools/_testing.py:19: FutureWarning: pandas.util.testing is deprecated. Use the functions in the public API at pandas.testing instead.\n",
            "  import pandas.util.testing as tm\n"
          ],
          "name": "stderr"
        }
      ]
    },
    {
      "cell_type": "code",
      "metadata": {
        "id": "3ognAV-OJbL5",
        "colab_type": "code",
        "outputId": "a9f2b1df-ece0-45e0-d74a-57628df5ece2",
        "colab": {
          "base_uri": "https://localhost:8080/",
          "height": 254
        }
      },
      "source": [
        "# Get data\n",
        "series = pd.read_csv('/content/TimeSeriesForecastingCOVID19/up_dataset_who.csv',header=0, parse_dates=[0], index_col=0, squeeze=True)\n",
        "\n",
        "# The term bfill means that we use the value before filling in missing values\n",
        "series = pd.Series(series.fillna(series.bfill()))\n",
        "\n",
        "print(series)"
      ],
      "execution_count": 0,
      "outputs": [
        {
          "output_type": "stream",
          "text": [
            "date_epicrv\n",
            "2020-01-11 00:00:00+00:00       41\n",
            "2020-01-12 00:00:00+00:00        0\n",
            "2020-01-13 00:00:00+00:00        1\n",
            "2020-01-14 00:00:00+00:00        1\n",
            "2020-01-15 00:00:00+00:00        0\n",
            "                             ...  \n",
            "2020-04-30 00:00:00+00:00    72955\n",
            "2020-05-01 00:00:00+00:00    85016\n",
            "2020-05-02 00:00:00+00:00    90560\n",
            "2020-05-03 00:00:00+00:00    84003\n",
            "2020-05-04 00:00:00+00:00    86029\n",
            "Name: cases, Length: 115, dtype: int64\n"
          ],
          "name": "stdout"
        }
      ]
    },
    {
      "cell_type": "markdown",
      "metadata": {
        "id": "9m4CNHUI4hII",
        "colab_type": "text"
      },
      "source": [
        "## Getting the training set"
      ]
    },
    {
      "cell_type": "code",
      "metadata": {
        "id": "sjS12tyaJqQR",
        "colab_type": "code",
        "outputId": "098c72bf-15ea-445c-a1c4-676dc2c09029",
        "colab": {
          "base_uri": "https://localhost:8080/",
          "height": 333
        }
      },
      "source": [
        "# Training set = some 30 days\n",
        "ini = pd.to_datetime('2020-01-11 00:00:00+00:00')\n",
        "end = pd.to_datetime('2020-03-11 00:00:00+00:00')\n",
        "train = series[ini:end]\n",
        "\n",
        "train.plot()"
      ],
      "execution_count": 0,
      "outputs": [
        {
          "output_type": "execute_result",
          "data": {
            "text/plain": [
              "<matplotlib.axes._subplots.AxesSubplot at 0x7f2acf795e48>"
            ]
          },
          "metadata": {
            "tags": []
          },
          "execution_count": 15
        },
        {
          "output_type": "display_data",
          "data": {
            "image/png": "[encoded data removed]",
            "text/plain": [
              "<Figure size 432x288 with 1 Axes>"
            ]
          },
          "metadata": {
            "tags": [],
            "needs_background": "light"
          }
        }
      ]
    },
    {
      "cell_type": "markdown",
      "metadata": {
        "id": "JLpj85hF4lgA",
        "colab_type": "text"
      },
      "source": [
        "# Fit model"
      ]
    },
    {
      "cell_type": "code",
      "metadata": {
        "id": "8-x3TA7OJtB5",
        "colab_type": "code",
        "outputId": "00d0afd6-1475-4dd9-da5d-484f08988cd8",
        "colab": {
          "base_uri": "https://localhost:8080/",
          "height": 54
        }
      },
      "source": [
        "# Fit ARIMA\n",
        "mod = sm.tsa.statespace.SARIMAX(train, trend='c', order=(1,1,1)) # Selected the parameters randomly\n",
        "res = mod.fit(disp=False)"
      ],
      "execution_count": 0,
      "outputs": [
        {
          "output_type": "stream",
          "text": [
            "/usr/local/lib/python3.6/dist-packages/statsmodels/tsa/base/tsa_model.py:165: ValueWarning: No frequency information was provided, so inferred frequency D will be used.\n",
            "  % freq, ValueWarning)\n"
          ],
          "name": "stderr"
        }
      ]
    },
    {
      "cell_type": "markdown",
      "metadata": {
        "id": "gMOnB6jq4oWs",
        "colab_type": "text"
      },
      "source": [
        "## Test"
      ]
    },
    {
      "cell_type": "code",
      "metadata": {
        "id": "cSLj1AiuQCMW",
        "colab_type": "code",
        "colab": {}
      },
      "source": [
        "# Forecast 7 days ahead\n",
        "ini_test = end + timedelta(days=1)\n",
        "end_test = ini_test + timedelta(days=6)\n",
        "\n",
        "pred = res.get_prediction(start=pd.to_datetime(ini_test), end=pd.to_datetime(end_test), dynamic=False)\n"
      ],
      "execution_count": 0,
      "outputs": []
    },
    {
      "cell_type": "code",
      "metadata": {
        "id": "mDiXjkigO4Uj",
        "colab_type": "code",
        "outputId": "751b2c1d-7d9d-44d4-d777-a633ad344ce5",
        "colab": {
          "base_uri": "https://localhost:8080/",
          "height": 314
        }
      },
      "source": [
        "# Plot Results\n",
        "ax = series[ini:end_test].plot(label='Observed')\n",
        "\n",
        "pred.predicted_mean.plot(ax=ax, label='Forecast', alpha=.7)\n",
        "\n",
        "ax.set_xlabel('Date')\n",
        "ax.set_ylabel('COVID_19 Cases')\n",
        "plt.legend()\n",
        "\n",
        "plt.show()"
      ],
      "execution_count": 0,
      "outputs": [
        {
          "output_type": "display_data",
          "data": {
            "image/png": "[encoded data removed]",
            "text/plain": [
              "<Figure size 432x288 with 1 Axes>"
            ]
          },
          "metadata": {
            "tags": [],
            "needs_background": "light"
          }
        }
      ]
    },
    {
      "cell_type": "code",
      "metadata": {
        "id": "DT1vIkrNSYay",
        "colab_type": "code",
        "outputId": "3cb54c98-84d4-4d85-a5b7-200036fee592",
        "colab": {
          "base_uri": "https://localhost:8080/",
          "height": 90
        }
      },
      "source": [
        "# Compute error\n",
        "\n",
        "predictions = np.array(pred.predicted_mean.values)\n",
        "observations = np.array(series[ini_test:end_test].values)\n",
        "\n",
        "MAE = np.sum(np.abs(predictions-observations))/len(predictions) \n",
        "\n",
        "print(observations)\n",
        "print(predictions)\n",
        "print('Mean absolute error (MAE):' + str(MAE))"
      ],
      "execution_count": 0,
      "outputs": [
        {
          "output_type": "stream",
          "text": [
            "[ 6682 10153 11793 12472 10749 15523 18365]\n",
            "[4948.43114987 4999.5890829  5078.64679223 5158.25354778 5237.87110814\n",
            " 5317.48888112 5397.10665829]\n",
            "Mean absolute error (MAE):7085.65896852364\n"
          ],
          "name": "stdout"
        }
      ]
    },
    {
      "cell_type": "code",
      "metadata": {
        "id": "n37af8maHMKl",
        "colab_type": "code",
        "colab": {}
      },
      "source": [
        ""
      ],
      "execution_count": 0,
      "outputs": []
    }
  ]
}